{
 "cells": [
  {
   "cell_type": "code",
   "execution_count": 10,
   "id": "e1fe47fc",
   "metadata": {},
   "outputs": [],
   "source": [
    "# User defined\n",
    "\n",
    "def min_edit_dist(str1, str2, m, n):\n",
    "    mat = [[0 for i in range (n+1)] for i in range (m+1)]\n",
    "    \n",
    "    for i in range (m+1):\n",
    "        for j in range(n+1) :\n",
    "            if i == 0:\n",
    "                mat[i][j] = j\n",
    "            elif j == 0:\n",
    "                mat[i][j] = i\n",
    "            elif str1[i-1] == str2[j-1]:\n",
    "                mat[i][j] = mat[i-1][j-1]\n",
    "            else:\n",
    "                mat[i][j] = 1 + min(mat[i][j-1], mat[i-1][j], mat[i-1][j-1])\n",
    "    return mat[m][n]\n"
   ]
  },
  {
   "cell_type": "code",
   "execution_count": 11,
   "id": "2d3f6450",
   "metadata": {},
   "outputs": [
    {
     "name": "stdout",
     "output_type": "stream",
     "text": [
      "Enter string 1: saturday\n",
      "Enter string 2: sunday\n",
      "No. of operations required :  3\n"
     ]
    }
   ],
   "source": [
    "if __name__ == '__main__' :\n",
    "    str1 = input(\"Enter string 1: \")\n",
    "    str2 = input(\"Enter string 2: \")\n",
    "    \n",
    "    print(\"No. of operations required : \", min_edit_dist(str1, str2, len(str1), len(str2)))"
   ]
  },
  {
   "cell_type": "code",
   "execution_count": 3,
   "id": "38f9fb45",
   "metadata": {},
   "outputs": [],
   "source": [
    "#pip install editdistance"
   ]
  },
  {
   "cell_type": "code",
   "execution_count": 4,
   "id": "e1ee8764",
   "metadata": {},
   "outputs": [
    {
     "data": {
      "text/plain": [
       "3"
      ]
     },
     "execution_count": 4,
     "metadata": {},
     "output_type": "execute_result"
    }
   ],
   "source": [
    "import editdistance\n",
    "\n",
    "editdistance.eval('saturday', 'sunday')"
   ]
  },
  {
   "cell_type": "code",
   "execution_count": 5,
   "id": "c3338b70",
   "metadata": {},
   "outputs": [],
   "source": []
  },
  {
   "cell_type": "code",
   "execution_count": null,
   "id": "c446aa81",
   "metadata": {},
   "outputs": [],
   "source": []
  }
 ],
 "metadata": {
  "kernelspec": {
   "display_name": "Python 3 (ipykernel)",
   "language": "python",
   "name": "python3"
  },
  "language_info": {
   "codemirror_mode": {
    "name": "ipython",
    "version": 3
   },
   "file_extension": ".py",
   "mimetype": "text/x-python",
   "name": "python",
   "nbconvert_exporter": "python",
   "pygments_lexer": "ipython3",
   "version": "3.9.7"
  }
 },
 "nbformat": 4,
 "nbformat_minor": 5
}
