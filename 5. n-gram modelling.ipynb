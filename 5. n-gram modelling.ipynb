{
 "cells": [
  {
   "cell_type": "code",
   "execution_count": 1,
   "id": "d15ada6f",
   "metadata": {},
   "outputs": [
    {
     "name": "stdout",
     "output_type": "stream",
     "text": [
      "The Arabian knights.These are the fairy tales of the east.The stories of the Arabian knights are translated in many languages\n"
     ]
    }
   ],
   "source": [
    "import nltk\n",
    "\n",
    "f = open(\"NGRAM.txt\")\n",
    "corpus = f.read()\n",
    "print(corpus)"
   ]
  },
  {
   "cell_type": "code",
   "execution_count": 2,
   "id": "63494878",
   "metadata": {},
   "outputs": [
    {
     "name": "stdout",
     "output_type": "stream",
     "text": [
      "Preprocessed corpus :  eos the arabian knights eos these are the fairy tales of the east eos the stories of the arabian knights are translated in many languages\n"
     ]
    }
   ],
   "source": [
    "# preprocessing\n",
    "\n",
    "def preprocess(corpus):\n",
    "    corpus = corpus.lower()\n",
    "    corpus = \"eos \" + corpus\n",
    "    corpus = corpus.replace(\".\", \" eos \")\n",
    "    return corpus\n",
    "\n",
    "corpus = preprocess(corpus)\n",
    "print(\"Preprocessed corpus : \", corpus)"
   ]
  },
  {
   "cell_type": "code",
   "execution_count": 4,
   "id": "3fa841b4",
   "metadata": {},
   "outputs": [
    {
     "name": "stdout",
     "output_type": "stream",
     "text": [
      "Tokens:  ['eos', 'the', 'arabian', 'knights', 'eos', 'these', 'are', 'the', 'fairy', 'tales', 'of', 'the', 'east', 'eos', 'the', 'stories', 'of', 'the', 'arabian', 'knights', 'are', 'translated', 'in', 'many', 'languages']\n",
      "Distinct Tokens:  ['many', 'stories', 'tales', 'fairy', 'in', 'east', 'the', 'knights', 'languages', 'are', 'translated', 'arabian', 'eos', 'these', 'of']\n"
     ]
    }
   ],
   "source": [
    "# Tokenization\n",
    "\n",
    "from nltk.tokenize import word_tokenize\n",
    "tokens = word_tokenize(corpus)\n",
    "print(\"Tokens: \", tokens)\n",
    "distinct_tokens = list(set(sorted(tokens)))\n",
    "print(\"Distinct Tokens: \", distinct_tokens)"
   ]
  },
  {
   "cell_type": "code",
   "execution_count": 5,
   "id": "5955d103",
   "metadata": {},
   "outputs": [
    {
     "name": "stdout",
     "output_type": "stream",
     "text": [
      "eos  :  3\n",
      "the  :  5\n",
      "arabian  :  2\n",
      "knights  :  2\n",
      "these  :  1\n",
      "are  :  2\n",
      "fairy  :  1\n",
      "tales  :  1\n",
      "of  :  2\n",
      "east  :  1\n",
      "stories  :  1\n",
      "translated  :  1\n",
      "in  :  1\n",
      "many  :  1\n",
      "languages  :  1\n"
     ]
    }
   ],
   "source": [
    "# frequency of tokens\n",
    "\n",
    "def generate_token_freq(tokens):\n",
    "    dct = {}\n",
    "    for i in tokens:\n",
    "        dct[i] = 0\n",
    "    for i in tokens:\n",
    "        dct[i]+=1\n",
    "    return dct\n",
    "dct = generate_token_freq(tokens)\n",
    "for i in dct.items():\n",
    "    print(i[0], \" : \", i[1])"
   ]
  },
  {
   "cell_type": "code",
   "execution_count": 10,
   "id": "ad58104a",
   "metadata": {},
   "outputs": [
    {
     "name": "stdout",
     "output_type": "stream",
     "text": [
      "Enter n : 3\n",
      "N-gram generated : \n",
      "['eos', 'the', 'arabian']\n",
      "['the', 'arabian', 'knights']\n",
      "['arabian', 'knights', 'eos']\n",
      "['knights', 'eos', 'these']\n",
      "['eos', 'these', 'are']\n",
      "['these', 'are', 'the']\n",
      "['are', 'the', 'fairy']\n",
      "['the', 'fairy', 'tales']\n",
      "['fairy', 'tales', 'of']\n",
      "['tales', 'of', 'the']\n",
      "['of', 'the', 'east']\n",
      "['the', 'east', 'eos']\n",
      "['east', 'eos', 'the']\n",
      "['eos', 'the', 'stories']\n",
      "['the', 'stories', 'of']\n",
      "['stories', 'of', 'the']\n",
      "['of', 'the', 'arabian']\n",
      "['the', 'arabian', 'knights']\n",
      "['arabian', 'knights', 'are']\n",
      "['knights', 'are', 'translated']\n",
      "['are', 'translated', 'in']\n",
      "['translated', 'in', 'many']\n",
      "['in', 'many', 'languages']\n",
      "['many', 'languages']\n"
     ]
    }
   ],
   "source": [
    "# Generate n-grams\n",
    "def generate_ngrams(tokens, k):\n",
    "    l = []\n",
    "    i = 0\n",
    "    while i < len(tokens) :\n",
    "        l.append(tokens[i : i+k])\n",
    "        i = i+1\n",
    "    l = l[:-1]\n",
    "    return l\n",
    "\n",
    "k = int(input(\"Enter n : \"))\n",
    "ngram = generate_ngrams(tokens, k)\n",
    "print(\"N-gram generated : \")\n",
    "for i in ngram:\n",
    "    print(i)\n"
   ]
  },
  {
   "cell_type": "code",
   "execution_count": 11,
   "id": "bc75c6cb",
   "metadata": {},
   "outputs": [
    {
     "name": "stdout",
     "output_type": "stream",
     "text": [
      "Frequency of ngram : \n",
      "eos the arabian  :  1\n",
      "the arabian knights  :  2\n",
      "arabian knights eos  :  1\n",
      "knights eos these  :  1\n",
      "eos these are  :  1\n",
      "these are the  :  1\n",
      "are the fairy  :  1\n",
      "the fairy tales  :  1\n",
      "fairy tales of  :  1\n",
      "tales of the  :  1\n",
      "of the east  :  1\n",
      "the east eos  :  1\n",
      "east eos the  :  1\n",
      "eos the stories  :  1\n",
      "the stories of  :  1\n",
      "stories of the  :  1\n",
      "of the arabian  :  1\n",
      "arabian knights are  :  1\n",
      "knights are translated  :  1\n",
      "are translated in  :  1\n",
      "translated in many  :  1\n",
      "in many languages  :  1\n",
      "many languages  :  1\n"
     ]
    }
   ],
   "source": [
    "# frequency of ngram\n",
    "\n",
    "def generate_ngram_freq(ngram):\n",
    "    dct1 = {}\n",
    "    for i in ngram:\n",
    "        st = \" \".join(i)\n",
    "        dct1[st] = 0\n",
    "    for i in ngram:\n",
    "        st = \" \".join(i)\n",
    "        dct1[st]+= 1\n",
    "    return dct1\n",
    "dct1 = generate_ngram_freq(ngram)\n",
    "print(\"Frequency of ngram : \")\n",
    "for i in dct1.items():\n",
    "    print(i[0], \" : \", i[1])"
   ]
  },
  {
   "cell_type": "code",
   "execution_count": null,
   "id": "f0499fa7",
   "metadata": {},
   "outputs": [],
   "source": []
  }
 ],
 "metadata": {
  "kernelspec": {
   "display_name": "Python 3 (ipykernel)",
   "language": "python",
   "name": "python3"
  },
  "language_info": {
   "codemirror_mode": {
    "name": "ipython",
    "version": 3
   },
   "file_extension": ".py",
   "mimetype": "text/x-python",
   "name": "python",
   "nbconvert_exporter": "python",
   "pygments_lexer": "ipython3",
   "version": "3.9.7"
  }
 },
 "nbformat": 4,
 "nbformat_minor": 5
}
