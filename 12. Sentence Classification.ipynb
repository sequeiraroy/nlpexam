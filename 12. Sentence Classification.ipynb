{
 "cells": [
  {
   "cell_type": "code",
   "execution_count": null,
   "id": "18759f8b",
   "metadata": {},
   "outputs": [],
   "source": [
    "from transformers import pipeline\n",
    "pl = pipeline('sentiment-analysis')"
   ]
  },
  {
   "cell_type": "code",
   "execution_count": null,
   "id": "bbce28e3",
   "metadata": {},
   "outputs": [],
   "source": [
    "pl('I am sad')"
   ]
  },
  {
   "cell_type": "code",
   "execution_count": null,
   "id": "3b46a2aa",
   "metadata": {},
   "outputs": [],
   "source": [
    "pl('I am motivated')"
   ]
  },
  {
   "cell_type": "code",
   "execution_count": null,
   "id": "53f0ce35",
   "metadata": {},
   "outputs": [],
   "source": [
    "pl('we are confused')"
   ]
  },
  {
   "cell_type": "code",
   "execution_count": null,
   "id": "35c38240",
   "metadata": {},
   "outputs": [],
   "source": [
    "ph= pipeline('sentiment-analysis', model='nlptown/bert-base-multilingual-uncased-sentiment')"
   ]
  },
  {
   "cell_type": "code",
   "execution_count": null,
   "id": "fd30a764",
   "metadata": {},
   "outputs": [],
   "source": [
    "ph('लोग बहुत अच्छे हैं')"
   ]
  },
  {
   "cell_type": "code",
   "execution_count": null,
   "id": "28113427",
   "metadata": {},
   "outputs": [],
   "source": []
  }
 ],
 "metadata": {
  "kernelspec": {
   "display_name": "Python 3 (ipykernel)",
   "language": "python",
   "name": "python3"
  },
  "language_info": {
   "codemirror_mode": {
    "name": "ipython",
    "version": 3
   },
   "file_extension": ".py",
   "mimetype": "text/x-python",
   "name": "python",
   "nbconvert_exporter": "python",
   "pygments_lexer": "ipython3",
   "version": "3.10.1"
  }
 },
 "nbformat": 4,
 "nbformat_minor": 5
}
