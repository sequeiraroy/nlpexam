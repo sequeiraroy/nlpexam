{
 "cells": [
  {
   "cell_type": "code",
   "execution_count": 2,
   "id": "679eabfa",
   "metadata": {},
   "outputs": [
    {
     "data": {
      "text/plain": [
       "['virat@kohli.com',\n",
       " 'maria@sharapova.com',\n",
       " 'serena@williams.com',\n",
       " 'joe@root.com',\n",
       " 'ashwal@nmamit.ac.in',\n",
       " 'joen@nmamit.ac.in',\n",
       " 'clawn@nitte.edu.in.com',\n",
       " 'reema@flagroots.com',\n",
       " 'leesha@root.com',\n",
       " 'harshin@dreams.com',\n",
       " 'dhrvi@nitte.edu.in',\n",
       " 'jane@nmamit.ac.in',\n",
       " 'jon@nmamit.ac.in',\n",
       " 'jonin@nmamit.ac.in',\n",
       " 'hoen@nmamit.ac.in',\n",
       " 'ren@nmamit.ac.in',\n",
       " 'joe@nmamit.ac.in',\n",
       " 'ChristopherAnderson@gmail.com',\n",
       " 'RonaldClark@gmail.com',\n",
       " 'MaryWright@gmail.com',\n",
       " 'LisaMitchell@gmail.com',\n",
       " 'MichelleJohnson@gmail.com',\n",
       " 'JohnThomas@gmail.com',\n",
       " 'DanielRodriguez@gmail.com',\n",
       " 'AnthonyLopez@gmail.com',\n",
       " 'PatriciaPerez@gmail.com',\n",
       " 'NancyWilliams@hotmail.com',\n",
       " 'LauraJackson@hotmail.com',\n",
       " 'RobertLewis@hotmail.com',\n",
       " 'PaulHill@hotmail.com',\n",
       " 'KevinRoberts@hotmail.com',\n",
       " 'LindaJones@hotmail.com',\n",
       " 'KarenWhite@hotmail.com',\n",
       " 'SarahLee@hotmail.com',\n",
       " 'MichaelScott@hotmail.com',\n",
       " 'MarkTurner@hotmail.com',\n",
       " 'JasonBrown@aol.com',\n",
       " 'BarbaraHarris@aol.com',\n",
       " 'BettyWalker@aol.com',\n",
       " 'KimberlyGreen@aol.com',\n",
       " 'WilliamPhillips@aol.com',\n",
       " 'DonaldDavis@aol.com',\n",
       " 'JeffMartin@aol.com',\n",
       " 'ElizabethHall@aol.com',\n",
       " 'HelenAdams@aol.com',\n",
       " 'DeborahCampbell@aol.com',\n",
       " 'DavidMiller@yahoo.com',\n",
       " 'GeorgeThompson@yahoo.com',\n",
       " 'JenniferAllen@yahoo.com',\n",
       " 'SandraBaker@yahoo.com',\n",
       " 'RichardParker@yahoo.com',\n",
       " 'KennethWilson@yahoo.com',\n",
       " 'MariaGarcia@yahoo.com',\n",
       " 'DonnaYoung@yahoo.com',\n",
       " 'CharlesGonzalez@yahoo.com',\n",
       " 'StevenEvans@yahoo.com',\n",
       " 'SusanMoore@yahoo.com',\n",
       " 'CarolMartinez@facebook.com',\n",
       " 'JosephHernandez@facebook.com',\n",
       " 'EdwardNelson@facebook.com',\n",
       " 'MargaretEdwards@facebook.com',\n",
       " 'RuthTaylor@facebook.com',\n",
       " 'ThomasRobinson@facebook.com',\n",
       " 'BrianKing@facebook.com',\n",
       " 'DorothyCarter@facebook.com',\n",
       " 'SharonCollins@facebook.com']"
      ]
     },
     "execution_count": 2,
     "metadata": {},
     "output_type": "execute_result"
    }
   ],
   "source": [
    "# Tokenize emailid from students.txt using Spacy\n",
    "\n",
    "import spacy\n",
    "nlp = spacy.load(\"en_core_web_sm\")\n",
    "\n",
    "with open(\"students.txt\") as f:\n",
    "    text = f.readlines()\n",
    "    \n",
    "text = \" \".join(text)\n",
    "\n",
    "doc = nlp(text)\n",
    "\n",
    "email = []\n",
    "for token in doc:\n",
    "    if token.like_email:\n",
    "        email.append(token.text)\n",
    "        \n",
    "email"
   ]
  },
  {
   "cell_type": "code",
   "execution_count": 3,
   "id": "31899d82",
   "metadata": {},
   "outputs": [
    {
     "name": "stdout",
     "output_type": "stream",
     "text": [
      "['virat@kohli.com', 'maria@sharapova.com', 'serena@williams.com', 'joe@root.com', 'ashwal@nmamit.ac.in', 'joen@nmamit.ac.in', 'clawn@nitte.edu.in.com', 'reema@flagroots.com', 'leesha@root.com', 'harshin@dreams.com', 'dhrvi@nitte.edu.in', 'jane@nmamit.ac.in', 'jon@nmamit.ac.in', 'jonin@nmamit.ac.in', 'hoen@nmamit.ac.in', 'ren@nmamit.ac.in', 'joe@nmamit.ac.in', 'ChristopherAnderson@gmail.com', 'RonaldClark@gmail.com', 'MaryWright@gmail.com', 'LisaMitchell@gmail.com', 'MichelleJohnson@gmail.com', 'JohnThomas@gmail.com', 'DanielRodriguez@gmail.com', 'AnthonyLopez@gmail.com', 'PatriciaPerez@gmail.com', 'NancyWilliams@hotmail.com', 'LauraJackson@hotmail.com', 'RobertLewis@hotmail.com', 'PaulHill@hotmail.com', 'KevinRoberts@hotmail.com', 'LindaJones@hotmail.com', 'KarenWhite@hotmail.com', 'SarahLee@hotmail.com', 'MichaelScott@hotmail.com', 'MarkTurner@hotmail.com', 'JasonBrown@aol.com', 'BarbaraHarris@aol.com', 'BettyWalker@aol.com', 'KimberlyGreen@aol.com', 'WilliamPhillips@aol.com', 'DonaldDavis@aol.com', 'JeffMartin@aol.com', 'ElizabethHall@aol.com', 'HelenAdams@aol.com', 'DeborahCampbell@aol.com', 'DavidMiller@yahoo.com', 'GeorgeThompson@yahoo.com', 'JenniferAllen@yahoo.com', 'SandraBaker@yahoo.com', 'RichardParker@yahoo.com', 'KennethWilson@yahoo.com', 'MariaGarcia@yahoo.com', 'DonnaYoung@yahoo.com', 'CharlesGonzalez@yahoo.com', 'StevenEvans@yahoo.com', 'SusanMoore@yahoo.com', 'CarolMartinez@facebook.com', 'JosephHernandez@facebook.com', 'EdwardNelson@facebook.com', 'MargaretEdwards@facebook.com', 'RuthTaylor@facebook.com', 'ThomasRobinson@facebook.com', 'BrianKing@facebook.com', 'DorothyCarter@facebook.com', 'SharonCollins@facebook.com']\n"
     ]
    }
   ],
   "source": [
    "# Tokenize emailid from students.txt using NLTK\n",
    "\n",
    "f = open(\"students.txt\")\n",
    "text = f.read()\n",
    "\n",
    "import re\n",
    "email = re.findall(r\"[a-zA-Z0-9\\.\\-+_]+@[a-zA-Z0-9\\.\\-+_]+\\.[a-z]+\", text)\n",
    "\n",
    "print(email)"
   ]
  },
  {
   "cell_type": "code",
   "execution_count": 5,
   "id": "d5f085b9",
   "metadata": {},
   "outputs": [
    {
     "data": {
      "text/plain": [
       "['http://www.data.gov/',\n",
       " 'http://www.science.gov/',\n",
       " 'http://data.gov.uk/.',\n",
       " 'http://www3.norc.org/gss+website/',\n",
       " 'http://www.europeansocialsurvey.org/.',\n",
       " 'http://www.systemsurvey.org/',\n",
       " 'domain.com']"
      ]
     },
     "execution_count": 5,
     "metadata": {},
     "output_type": "execute_result"
    }
   ],
   "source": [
    "# data websites\n",
    "\n",
    "text = '''\n",
    "Look for data to help you address the question. Governments are good sources because data from public research is often freely available. Goodplaces to start include http://www.data.gov/, and http://www.science.gov/, and in the United Kingdom, http://data.gov.uk/.\n",
    "Two of my favorite data sets are the General Social Survey at http://www3.norc.org/gss+website/, and the European Social Survey at http://www.europeansocialsurvey.org/. The current representation will be formed by a well-organized collection of agents, previously structured in a dynamic, control-based manner. This collection of agents will be built based on the analysis of activations of conception and structuring agents that intercommunicate. Having first deployed an intent, a global interpretation of the system’s situation is formed by means of questionings, qualifying aspects of things, memorized cases, development of numerous cognitive aspects by activating agents that operate proper scaling up, all of which will allow for the efficient emergence of the representation. The system’s interpretation of this collection of agents will take the form of http://www.systemsurvey.org/ a network of dynamic knowledge of apprehensions, operating through questions in a steadily activated loop. This knowledge network will be activated by the system and further developed based on inter-agent relations that will result in significant aggregations of knowledge, structures of dynamic knowledge with appropriate (domain.com) characteristics.\n",
    "'''\n",
    "#doc = nlp(text)\n",
    "#website = []\n",
    "#for token in doc:\n",
    "#    if token.like_url:\n",
    "#        website.append(token.text)\n",
    "\n",
    "website = [token.text for token in doc if token.like_url]\n",
    "\n",
    "website"
   ]
  },
  {
   "cell_type": "code",
   "execution_count": 7,
   "id": "4616611d",
   "metadata": {},
   "outputs": [
    {
     "name": "stdout",
     "output_type": "stream",
     "text": [
      "two $\n",
      "500 €\n"
     ]
    }
   ],
   "source": [
    "# Money transaction\n",
    "\n",
    "text = \"Aron gave two $ to Shawn, Smith gave 500 € to Johan\"\n",
    "doc = nlp(text)\n",
    "\n",
    "for token in doc:\n",
    "    if token.like_num and doc[token.i+1].is_currency:\n",
    "        print(token, doc[token.i+1])"
   ]
  },
  {
   "cell_type": "code",
   "execution_count": null,
   "id": "d90dbca9",
   "metadata": {},
   "outputs": [],
   "source": []
  }
 ],
 "metadata": {
  "kernelspec": {
   "display_name": "Python 3 (ipykernel)",
   "language": "python",
   "name": "python3"
  },
  "language_info": {
   "codemirror_mode": {
    "name": "ipython",
    "version": 3
   },
   "file_extension": ".py",
   "mimetype": "text/x-python",
   "name": "python",
   "nbconvert_exporter": "python",
   "pygments_lexer": "ipython3",
   "version": "3.9.7"
  }
 },
 "nbformat": 4,
 "nbformat_minor": 5
}
