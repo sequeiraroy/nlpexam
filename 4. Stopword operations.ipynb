{
 "cells": [
  {
   "cell_type": "code",
   "execution_count": 1,
   "id": "7d06df92",
   "metadata": {},
   "outputs": [
    {
     "data": {
      "text/html": [
       "<div>\n",
       "<style scoped>\n",
       "    .dataframe tbody tr th:only-of-type {\n",
       "        vertical-align: middle;\n",
       "    }\n",
       "\n",
       "    .dataframe tbody tr th {\n",
       "        vertical-align: top;\n",
       "    }\n",
       "\n",
       "    .dataframe thead th {\n",
       "        text-align: right;\n",
       "    }\n",
       "</style>\n",
       "<table border=\"1\" class=\"dataframe\">\n",
       "  <thead>\n",
       "    <tr style=\"text-align: right;\">\n",
       "      <th></th>\n",
       "      <th>text</th>\n",
       "      <th>spam</th>\n",
       "    </tr>\n",
       "  </thead>\n",
       "  <tbody>\n",
       "    <tr>\n",
       "      <th>0</th>\n",
       "      <td>Subject: naturally it's your irresistible your...</td>\n",
       "      <td>1</td>\n",
       "    </tr>\n",
       "    <tr>\n",
       "      <th>1</th>\n",
       "      <td>Subject: the stock trading gunslinger  fanny i...</td>\n",
       "      <td>1</td>\n",
       "    </tr>\n",
       "    <tr>\n",
       "      <th>2</th>\n",
       "      <td>Subject: unbelievable new homes made easy  im ...</td>\n",
       "      <td>1</td>\n",
       "    </tr>\n",
       "    <tr>\n",
       "      <th>3</th>\n",
       "      <td>Subject: 4 color printing special  request add...</td>\n",
       "      <td>1</td>\n",
       "    </tr>\n",
       "    <tr>\n",
       "      <th>4</th>\n",
       "      <td>Subject: do not have money , get software cds ...</td>\n",
       "      <td>1</td>\n",
       "    </tr>\n",
       "  </tbody>\n",
       "</table>\n",
       "</div>"
      ],
      "text/plain": [
       "                                                text spam\n",
       "0  Subject: naturally it's your irresistible your...    1\n",
       "1  Subject: the stock trading gunslinger  fanny i...    1\n",
       "2  Subject: unbelievable new homes made easy  im ...    1\n",
       "3  Subject: 4 color printing special  request add...    1\n",
       "4  Subject: do not have money , get software cds ...    1"
      ]
     },
     "execution_count": 1,
     "metadata": {},
     "output_type": "execute_result"
    }
   ],
   "source": [
    "import pandas as pd\n",
    "data = pd.read_csv(\"emails.csv\", usecols = ['text', 'spam'])\n",
    "data.head()"
   ]
  },
  {
   "cell_type": "code",
   "execution_count": 2,
   "id": "7f8972cb",
   "metadata": {},
   "outputs": [
    {
     "name": "stdout",
     "output_type": "stream",
     "text": [
      "{'some', 'sixty', 'your', 'hence', 'nine', 'under', 'herself', 'either', 'whom', 'towards', 'amount', 'keep', 'anywhere', 'therein', 'though', 'always', 'bottom', \"'re\", 'wherein', 'everywhere', 'per', 'about', 'front', 'was', 'please', 'anything', 'must', 'go', 'several', 'back', 'herein', 'from', 'seeming', 'which', 'forty', 'is', 'be', 'toward', 'together', 'former', 'indeed', 'side', 'whence', 'sometime', 'after', 'if', 'might', 'alone', 'beside', 'namely', 'yours', 'serious', 'whoever', 'anyway', 'other', 'whereafter', 'around', 'various', '‘ll', 'did', 'otherwise', 'see', \"'d\", 'are', 'nobody', 'nothing', 'themselves', 'third', 'a', 'although', 'whither', 'well', 'me', 'in', 'part', 'nor', 'hereby', 'within', 'such', 'few', 'any', 'besides', 'twelve', 'out', 'i', 'ourselves', 'where', 'latter', 'hundred', 'on', 'used', 'using', 're', 'have', 'move', 'at', 'less', '’m', 'because', 'among', 'does', 'fifteen', 'whole', 'now', 'but', 'so', 'still', 'thereby', \"n't\", 'above', 'eight', 'unless', 'across', 'amongst', 'these', 'thereupon', 'name', 'whereby', 'hers', 'often', 'up', 'could', 'his', '’d', 'than', 'them', 'there', 'who', 'himself', 'twenty', 'others', 'five', 'almost', 'before', 'had', 'what', 'then', 'each', 'all', \"'m\", 'show', 'therefore', 'another', 'afterwards', 'get', 'cannot', 'into', 'six', 'thence', 'onto', 'this', 'everything', 'however', 'or', 'much', 'thru', 'yourselves', \"'ll\", '‘ve', 'down', 'never', 'between', 'nevertheless', 'own', 'empty', 'an', 'put', 'becoming', 'fifty', 'enough', 'also', 'neither', 'been', 'as', 'were', 'once', 'ever', 'since', 'yet', '‘s', 'below', 'they', \"'ve\", 'by', 'call', 'no', 'perhaps', 'something', 'he', 'latterly', 'and', 'seem', 'quite', 'both', 'will', 'done', 'him', 'against', 'made', 'along', 'elsewhere', 'two', 'n’t', 'n‘t', 'none', 'again', 'being', 'beforehand', 'of', 'moreover', 'sometimes', 'four', 'us', 'already', 'you', 'during', 'when', 'least', 'most', 'we', 'whose', 'say', '’s', 'it', 'everyone', 'can', 'more', 'mostly', '‘d', 'ours', 'just', 'over', 'behind', 'her', 'do', 'while', 'hereupon', 'wherever', 'without', 'to', 'with', 'nowhere', 'whereas', 'the', 'its', '’ve', 'take', 'seems', 'someone', 'becomes', 'regarding', 'make', 'noone', 'not', 'thereafter', 'ca', 'would', 'beyond', 'throughout', 'those', 'itself', 'how', 'even', 'except', 'should', '‘re', 'their', 'hereafter', 'whenever', 'very', 'top', 'else', 'anyhow', 'mine', 'through', 'became', 'ten', 'meanwhile', 'first', '‘m', 'off', 'become', 'until', 'really', 'whereupon', 'myself', \"'s\", 'full', 'somehow', 'am', 'eleven', 'rather', 'give', 'seemed', 'only', 'via', 'three', 'she', 'why', 'has', 'upon', 'further', 'thus', 'next', 'our', 'same', 'many', 'yourself', 'whatever', 'one', 'my', 'here', '’ll', 'due', 'whether', 'doing', 'for', 'that', 'last', 'formerly', 'somewhere', 'every', '’re', 'may', 'anyone', 'too'} \n",
      "\n",
      "{'some', 'sixty', 'your', 'hence', 'nine', 'under', 'herself', 'either', 'whom', 'towards', 'amount', 'keep', 'anywhere', 'therein', 'though', 'always', 'bottom', \"'re\", 'wherein', 'everywhere', 'per', 'about', 'front', 'was', 'please', 'anything', 'must', 'go', 'several', 'back', 'herein', 'from', 'seeming', 'which', 'forty', 'is', 'be', 'toward', 'together', 'former', 'indeed', 'side', 'whence', 'sometime', 'after', 'if', 'might', 'alone', 'beside', 'namely', 'yours', 'serious', 'whoever', 'anyway', 'other', 'whereafter', 'around', 'various', '‘ll', 'did', 'otherwise', 'see', \"'d\", 'are', 'nobody', 'nothing', 'themselves', 'third', 'a', 'although', 'whither', 'well', 'me', 'in', 'part', 'nor', 'hereby', 'within', 'such', 'few', 'any', 'besides', 'twelve', 'out', 'i', 'ourselves', 'where', 'latter', 'hundred', 'on', 'used', 'using', 're', 'have', 'move', 'at', 'less', '’m', 'because', 'among', 'does', 'fifteen', 'whole', 'now', 'but', 'so', 'still', 'thereby', \"n't\", 'above', 'eight', 'unless', 'across', 'amongst', 'these', 'thereupon', 'name', 'whereby', 'hers', 'often', 'up', 'could', 'his', '’d', 'than', 'them', 'there', 'who', 'himself', 'twenty', 'others', 'five', 'almost', 'before', 'had', 'what', 'then', 'each', 'all', \"'m\", 'show', 'therefore', 'another', 'afterwards', 'get', 'cannot', 'into', 'six', 'thence', 'onto', 'this', 'everything', 'however', 'or', 'much', 'thru', 'yourselves', \"'ll\", '‘ve', 'down', 'never', 'between', 'nevertheless', 'own', 'empty', 'an', 'put', 'becoming', 'fifty', 'enough', 'also', 'neither', 'been', 'as', 'were', 'once', 'ever', 'since', 'yet', '‘s', 'below', 'they', \"'ve\", 'by', 'call', 'no', 'perhaps', 'something', 'he', 'latterly', 'and', 'seem', 'quite', 'both', 'will', 'done', 'him', 'against', 'made', 'along', 'elsewhere', 'two', 'n’t', 'n‘t', 'none', 'again', 'being', 'beforehand', 'of', 'moreover', 'sometimes', 'four', 'us', 'already', 'you', 'during', 'when', 'least', 'most', 'we', 'whose', 'say', '’s', 'it', 'everyone', 'can', 'more', 'mostly', '‘d', 'ours', 'just', 'over', 'behind', 'her', 'do', 'while', 'hereupon', 'wherever', 'without', 'with', 'nowhere', 'whereas', 'the', 'its', '’ve', 'take', 'seems', 'someone', 'becomes', 'regarding', 'make', 'noone', 'not', 'thereafter', 'ca', 'would', 'beyond', 'throughout', 'those', 'itself', 'how', 'even', 'except', 'should', '‘re', 'their', 'hereafter', 'whenever', 'very', 'top', 'else', 'anyhow', 'mine', 'through', 'became', 'ten', 'meanwhile', 'first', '‘m', 'off', 'become', 'until', 'really', 'whereupon', 'myself', \"'s\", 'full', 'somehow', 'am', 'eleven', 'rather', 'give', 'seemed', 'only', 'via', 'three', 'she', 'why', 'has', 'upon', 'further', 'thus', 'next', 'our', 'same', 'many', 'yourself', 'whatever', 'one', 'my', 'here', '’ll', 'due', 'whether', 'doing', 'for', 'that', 'last', 'formerly', 'somewhere', 'every', '’re', 'may', 'anyone', 'too'} \n",
      "\n",
      "{'some', 'sixty', 'your', 'hence', 'nine', 'under', 'herself', 'either', 'whom', 'towards', 'amount', 'keep', 'anywhere', 'therein', 'though', 'always', 'bottom', \"'re\", 'wherein', 'everywhere', 'per', 'about', 'front', 'was', 'please', 'anything', 'must', 'go', 'several', 'back', 'herein', 'from', 'seeming', 'which', 'naturally', 'forty', 'is', 'be', 'toward', 'together', 'former', 'indeed', 'side', 'whence', 'sometime', 'after', 'if', 'might', 'alone', 'beside', 'namely', 'yours', 'serious', 'whoever', 'anyway', 'other', 'whereafter', 'around', 'various', '‘ll', 'did', 'otherwise', 'see', \"'d\", 'are', 'nobody', 'nothing', 'themselves', 'third', 'a', 'although', 'whither', 'well', 'me', 'in', 'part', 'nor', 'hereby', 'within', 'such', 'few', 'any', 'besides', 'twelve', 'out', 'i', 'ourselves', 'where', 'latter', 'hundred', 'on', 'used', 'using', 're', 'have', 'move', 'at', 'less', '’m', 'because', 'among', 'does', 'fifteen', 'whole', 'now', 'but', 'so', 'still', 'thereby', \"n't\", 'above', 'eight', 'unless', 'across', 'amongst', 'these', 'thereupon', 'name', 'whereby', 'hers', 'often', 'up', 'could', 'his', '’d', 'than', 'them', 'there', 'who', 'himself', 'twenty', 'others', 'five', 'almost', 'before', 'had', 'what', 'then', 'each', 'all', \"'m\", 'show', 'therefore', 'another', 'afterwards', 'get', 'cannot', 'into', 'six', 'thence', 'onto', 'this', 'everything', 'however', 'or', 'much', 'thru', 'yourselves', \"'ll\", '‘ve', 'down', 'never', 'between', 'nevertheless', 'own', 'empty', 'an', 'put', 'becoming', 'fifty', 'enough', 'also', 'neither', 'been', 'as', 'were', 'once', 'ever', 'since', 'yet', '‘s', 'below', 'they', \"'ve\", 'by', 'call', 'no', 'perhaps', 'something', 'he', 'latterly', 'and', 'seem', 'quite', 'both', 'will', 'done', 'him', 'against', 'made', 'along', 'elsewhere', 'two', 'n’t', 'n‘t', 'none', 'again', 'being', 'beforehand', 'of', 'moreover', 'sometimes', 'four', 'us', 'already', 'you', 'during', 'when', 'least', 'most', 'we', 'whose', 'say', '’s', 'it', 'everyone', 'can', 'more', 'mostly', '‘d', 'ours', 'just', 'over', 'behind', 'her', 'do', 'while', 'hereupon', 'wherever', 'without', 'with', 'nowhere', 'whereas', 'the', 'its', '’ve', 'take', 'seems', 'someone', 'becomes', 'regarding', 'make', 'noone', 'not', 'thereafter', 'ca', 'would', 'beyond', 'throughout', 'those', 'itself', 'how', 'even', 'except', 'should', '‘re', 'their', 'hereafter', 'whenever', 'very', 'top', 'else', 'anyhow', 'mine', 'through', 'became', 'ten', 'meanwhile', 'first', '‘m', 'off', 'become', 'until', 'really', 'whereupon', 'myself', \"'s\", 'full', 'somehow', 'am', 'eleven', 'rather', 'give', 'seemed', 'only', 'via', 'three', 'she', 'why', 'has', 'upon', 'further', 'thus', 'next', 'our', 'same', 'many', 'yourself', 'whatever', 'one', 'my', 'here', '’ll', 'due', 'whether', 'doing', 'for', 'that', 'last', 'formerly', 'somewhere', 'every', '’re', 'may', 'anyone', 'too'} \n",
      "\n"
     ]
    }
   ],
   "source": [
    "# Using Spacy\n",
    "\n",
    "import spacy\n",
    "nlp = spacy.load(\"en_core_web_sm\")\n",
    "\n",
    "#Display\n",
    "stop_words = nlp.Defaults.stop_words\n",
    "print(stop_words, \"\\n\")\n",
    "\n",
    "# remove\n",
    "stop_words.remove('to')\n",
    "print(stop_words, \"\\n\")\n",
    "\n",
    "# add\n",
    "nlp.Defaults.stop_words.add('naturally')\n",
    "print(stop_words, \"\\n\")\n"
   ]
  },
  {
   "cell_type": "code",
   "execution_count": 3,
   "id": "ce40e65d",
   "metadata": {},
   "outputs": [
    {
     "name": "stdout",
     "output_type": "stream",
     "text": [
      "['Subject', ':', 'naturally', 'it', \"'s\", 'your', 'irresistible', 'your', 'corporate', 'identity', ' ', 'lt', 'is', 'really', 'hard', 'to', 'recollect', 'a', 'company', ':', 'the', ' ', 'market', 'is', 'full', 'of', 'suqgestions', 'and', 'the', 'information', 'isoverwhelminq', ';', 'but', 'a', 'good', ' ', 'catchy', 'logo', ',', 'stylish', 'statlonery', 'and', 'outstanding', 'website', ' ', 'will', 'make', 'the', 'task', 'much', 'easier', '.', ' ', 'we', 'do', \"n't\", 'promise', 'that', 'havinq', 'ordered', 'a', 'iogo', 'your', ' ', 'company', 'will', 'automaticaily', 'become', 'a', 'world', 'ieader', ':', 'it', 'isguite', 'ciear', 'that', ' ', 'without', 'good', 'products', ',', 'effective', 'business', 'organization', 'and', 'practicable', 'aim', 'it', ' ', 'will', 'be', 'hotat', 'nowadays', 'market', ';', 'but', 'we', 'do', 'promise', 'that', 'your', 'marketing', 'efforts', ' ', 'will', 'become', 'much', 'more', 'effective', '.', 'here', 'is', 'the', 'list', 'of', 'clear', ' ', 'benefits', ':', 'creativeness', ':', 'hand', '-', 'made', ',', 'original', 'logos', ',', 'specially', 'done', ' ', 'to', 'reflect', 'your', 'distinctive', 'company', 'image', '.', 'convenience', ':', 'logo', 'and', 'stationery', ' ', 'are', 'provided', 'in', 'all', 'formats', ';', 'easy', '-', 'to', '-', 'use', 'content', 'management', 'system', 'letsyou', ' ', 'change', 'your', 'website', 'content', 'and', 'even', 'its', 'structure', '.', 'promptness', ':', 'you', \"'ll\", 'see', 'logo', 'drafts', 'within', 'three', 'business', 'days', '.', 'affordability', ':', 'your', ' ', 'marketing', 'break', '-', 'through', 'should', \"n't\", 'make', 'gaps', 'in', 'your', 'budget', '.', '100', '%', 'satisfaction', ' ', 'guaranteed', ':', 'we', 'provide', 'unlimited', 'amount', 'of', 'changes', 'with', 'no', 'extra', 'fees', 'for', 'you', 'to', ' ', 'be', 'surethat', 'you', 'will', 'love', 'the', 'result', 'of', 'this', 'collaboration', '.', 'have', 'a', 'look', 'at', 'our', ' ', 'portfolio', '_', '_', '_', '_', '_', '_', '_', '_', '_', '_', '_', '_', '_', '_', '_', '_', '_', '_', '_', '_', '_', '_', '_', '_', '_', '_', '_', '_', '_', '_', '_', '_', '_', '_', '_', '_', '_', '_', '_', '_', '_', '_', '_', '_', '_', '_', '_', '_', '_', '_', '_', '_', 'not', 'interested', '.', '.', '.', '_', '_', '_', '_', '_', '_', '_', '_', '_', '_', '_', '_', '_', '_', '_', '_', '_', '_', '_', '_', '_', '_', '_', '_', '_', '_', '_', '_', '_', '_', '_', '_', '_', '_', '_', '_', '_', '_', '_', '_', '_', '_', '_', '_', '_', '_', '_', '_', '_', '_', '_', '_'] \n",
      "\n",
      "['Subject', ':', 'irresistible', 'corporate', 'identity', ' ', 'lt', 'hard', 'to', 'recollect', 'company', ':', ' ', 'market', 'suqgestions', 'information', 'isoverwhelminq', ';', 'good', ' ', 'catchy', 'logo', ',', 'stylish', 'statlonery', 'outstanding', 'website', ' ', 'task', 'easier', '.', ' ', 'promise', 'havinq', 'ordered', 'iogo', ' ', 'company', 'automaticaily', 'world', 'ieader', ':', 'isguite', 'ciear', ' ', 'good', 'products', ',', 'effective', 'business', 'organization', 'practicable', 'aim', ' ', 'hotat', 'nowadays', 'market', ';', 'promise', 'marketing', 'efforts', ' ', 'effective', '.', 'list', 'clear', ' ', 'benefits', ':', 'creativeness', ':', 'hand', '-', ',', 'original', 'logos', ',', 'specially', ' ', 'to', 'reflect', 'distinctive', 'company', 'image', '.', 'convenience', ':', 'logo', 'stationery', ' ', 'provided', 'formats', ';', 'easy', '-', 'to', '-', 'use', 'content', 'management', 'system', 'letsyou', ' ', 'change', 'website', 'content', 'structure', '.', 'promptness', ':', 'logo', 'drafts', 'business', 'days', '.', 'affordability', ':', ' ', 'marketing', 'break', '-', 'gaps', 'budget', '.', '100', '%', 'satisfaction', ' ', 'guaranteed', ':', 'provide', 'unlimited', 'changes', 'extra', 'fees', 'to', ' ', 'surethat', 'love', 'result', 'collaboration', '.', 'look', ' ', 'portfolio', '_', '_', '_', '_', '_', '_', '_', '_', '_', '_', '_', '_', '_', '_', '_', '_', '_', '_', '_', '_', '_', '_', '_', '_', '_', '_', '_', '_', '_', '_', '_', '_', '_', '_', '_', '_', '_', '_', '_', '_', '_', '_', '_', '_', '_', '_', '_', '_', '_', '_', '_', '_', 'interested', '.', '.', '.', '_', '_', '_', '_', '_', '_', '_', '_', '_', '_', '_', '_', '_', '_', '_', '_', '_', '_', '_', '_', '_', '_', '_', '_', '_', '_', '_', '_', '_', '_', '_', '_', '_', '_', '_', '_', '_', '_', '_', '_', '_', '_', '_', '_', '_', '_', '_', '_', '_', '_', '_', '_']\n"
     ]
    }
   ],
   "source": [
    "# remove stopwords from text\n",
    "text = data['text'][0] \n",
    "token_list = []\n",
    "doc = nlp(text)\n",
    "token_list = [token.text for token in doc]\n",
    "print(token_list, \"\\n\")\n",
    "\n",
    "filterset = []\n",
    "for token in token_list:\n",
    "    lexeme = nlp.vocab[token]\n",
    "    if lexeme.is_stop == False:\n",
    "        filterset.append(token)\n",
    "print(filterset)"
   ]
  },
  {
   "cell_type": "code",
   "execution_count": 4,
   "id": "e4107271",
   "metadata": {},
   "outputs": [
    {
     "name": "stdout",
     "output_type": "stream",
     "text": [
      "frozenset({'fill', 'some', 'sixty', 'your', 'hence', 'nine', 'under', 'herself', 'either', 'whom', 'towards', 'amount', 'keep', 'therein', 'anywhere', 'though', 'always', 'bottom', 'wherein', 'everywhere', 'per', 'about', 'front', 'was', 'please', 'eg', 'describe', 'anything', 'de', 'must', 'go', 'several', 'back', 'herein', 'system', 'seeming', 'from', 'which', 'forty', 'is', 'be', 'toward', 'together', 'amoungst', 'find', 'former', 'indeed', 'side', 'whence', 'kg', 'sometime', 'after', 'if', 'might', 'alone', 'namely', 'beside', 'yours', 'serious', 'whoever', 'anyway', 'other', 'whereafter', 'around', 'various', 'did', 'otherwise', 'see', 'are', 'cry', 'nobody', 'km', 'nothing', 'themselves', 'third', 'un', 'a', 'although', 'whither', 'well', 'me', 'in', 'part', 'nor', 'hereby', 'within', 'such', 'few', 'any', 'besides', 'twelve', 'out', 'i', 'ourselves', 'detail', 'where', 'latter', 'hundred', 'on', 'using', 'used', 're', 'have', 'move', 'at', 'less', 'because', 'cant', 'among', 'does', 'fifteen', 'whole', 'now', 'but', 'so', 'still', 'thereby', 'above', 'eight', 'unless', 'across', 'amongst', 'these', 'thereupon', 'name', 'whereby', 'hers', 'often', 'ie', 'up', 'could', 'his', 'than', 'bill', 'them', 'who', 'there', 'himself', 'twenty', 'others', 'five', 'almost', 'before', 'had', 'what', 'then', 'each', 'all', 'show', 'therefore', 'another', 'afterwards', 'get', 'cannot', 'six', 'into', 'thence', 'onto', 'this', 'everything', 'however', 'or', 'much', 'computer', 'thru', 'yourselves', 'down', 'never', 'between', 'own', 'nevertheless', 'empty', 'an', 'put', 'becoming', 'fifty', 'enough', 'also', 'neither', 'been', 'as', 'inc', 'were', 'con', 'once', 'interest', 'ever', 'since', 'yet', 'sincere', 'below', 'they', 'by', 'call', 'thick', 'no', 'perhaps', 'something', 'he', 'latterly', 'and', 'seem', 'quite', 'both', 'will', 'done', 'him', 'against', 'made', 'along', 'elsewhere', 'two', 'mill', 'co', 'none', 'again', 'being', 'beforehand', 'of', 'moreover', 'sometimes', 'four', 'us', 'already', 'you', 'during', 'when', 'least', 'most', 'we', 'whose', 'say', 'it', 'everyone', 'can', 'more', 'mostly', 'ours', 'just', 'over', 'behind', 'her', 'do', 'while', 'hereupon', 'wherever', 'without', 'to', 'with', 'nowhere', 'couldnt', 'whereas', 'the', 'its', 'take', 'seems', 'someone', 'becomes', 'regarding', 'make', 'noone', 'not', 'thereafter', 'would', 'beyond', 'throughout', 'those', 'itself', 'how', 'even', 'should', 'except', 'their', 'found', 'didn', 'hereafter', 'whenever', 'very', 'top', 'else', 'ltd', 'anyhow', 'mine', 'through', 'became', 'ten', 'meanwhile', 'first', 'off', 'become', 'until', 'really', 'whereupon', 'myself', 'full', 'somehow', 'fire', 'am', 'eleven', 'rather', 'give', 'seemed', 'only', 'via', 'three', 'she', 'why', 'has', 'don', 'etc', 'upon', 'further', 'doesn', 'thus', 'next', 'our', 'same', 'thin', 'many', 'hasnt', 'yourself', 'whatever', 'one', 'my', 'here', 'due', 'whether', 'doing', 'for', 'that', 'last', 'somewhere', 'formerly', 'every', 'may', 'anyone', 'too'}) \n",
      "\n",
      "\n",
      "frozenset({'fill', 'neither', 'some', 'sixty', 'your', 'been', 'hence', 'as', 'nine', 'inc', 'under', 'were', 'con', 'herself', 'either', 'whom', 'once', 'towards', 'interest', 'amount', 'keep', 'ever', 'since', 'therein', 'anywhere', 'yet', 'though', 'sincere', 'always', 'below', 'bottom', 'they', 'wherein', 'everywhere', 'per', 'by', 'about', 'call', 'thick', 'no', 'perhaps', 'front', 'was', 'please', 'eg', 'describe', 'anything', 'something', 'de', 'must', 'go', 'he', 'several', 'back', 'latterly', 'and', 'seem', 'quite', 'both', 'herein', 'system', 'will', 'seeming', 'from', 'done', 'him', 'which', 'naturally', 'against', 'made', 'along', 'elsewhere', 'two', 'forty', 'is', 'be', 'toward', 'mill', 'co', 'together', 'none', 'amoungst', 'again', 'find', 'former', 'indeed', 'side', 'being', 'whence', 'beforehand', 'kg', 'sometime', 'of', 'after', 'moreover', 'sometimes', 'four', 'if', 'might', 'alone', 'us', 'namely', 'beside', 'already', 'you', 'yours', 'serious', 'whoever', 'during', 'when', 'anyway', 'other', 'whereafter', 'around', 'least', 'most', 'we', 'various', 'whose', 'say', 'did', 'otherwise', 'see', 'it', 'everyone', 'can', 'more', 'are', 'mostly', 'ours', 'just', 'cry', 'nobody', 'over', 'km', 'nothing', 'behind', 'her', 'themselves', 'do', 'third', 'un', 'a', 'while', 'although', 'hereupon', 'whither', 'wherever', 'without', 'well', 'to', 'me', 'with', 'nowhere', 'couldnt', 'whereas', 'in', 'the', 'part', 'its', 'nor', 'hereby', 'take', 'within', 'such', 'seems', 'someone', 'few', 'any', 'besides', 'twelve', 'becomes', 'out', 'i', 'ourselves', 'regarding', 'make', 'noone', 'detail', 'where', 'not', 'thereafter', 'latter', 'would', 'beyond', 'throughout', 'those', 'hundred', 'itself', 'on', 'using', 'used', 'how', 're', 'have', 'even', 'should', 'except', 'move', 'their', 'at', 'less', 'found', 'because', 'didn', 'cant', 'among', 'hereafter', 'does', 'whenever', 'very', 'top', 'else', 'ltd', 'fifteen', 'anyhow', 'mine', 'through', 'whole', 'became', 'now', 'but', 'so', 'ten', 'still', 'thereby', 'above', 'meanwhile', 'first', 'eight', 'off', 'unless', 'across', 'amongst', 'these', 'become', 'until', 'thereupon', 'really', 'whereupon', 'myself', 'name', 'full', 'whereby', 'somehow', 'hers', 'fire', 'often', 'ie', 'up', 'am', 'eleven', 'company', 'could', 'his', 'rather', 'give', 'than', 'seemed', 'bill', 'them', 'who', 'there', 'only', 'himself', 'via', 'twenty', 'others', 'three', 'she', 'five', 'why', 'almost', 'has', 'before', 'had', 'don', 'etc', 'what', 'then', 'each', 'all', 'upon', 'further', 'doesn', 'thus', 'next', 'show', 'therefore', 'another', 'our', 'same', 'afterwards', 'get', 'cannot', 'six', 'into', 'thin', 'thence', 'onto', 'many', 'this', 'hasnt', 'yourself', 'whatever', 'one', 'everything', 'however', 'or', 'much', 'computer', 'thru', 'my', 'here', 'yourselves', 'due', 'whether', 'doing', 'for', 'that', 'last', 'somewhere', 'down', 'formerly', 'never', 'between', 'every', 'own', 'nevertheless', 'may', 'anyone', 'too', 'empty', 'an', 'put', 'becoming', 'fifty', 'enough', 'also'}) \n",
      "\n",
      "\n",
      "frozenset({'fill', 'neither', 'some', 'sixty', 'your', 'been', 'hence', 'as', 'nine', 'inc', 'under', 'were', 'con', 'herself', 'either', 'whom', 'once', 'towards', 'interest', 'amount', 'keep', 'ever', 'since', 'therein', 'anywhere', 'yet', 'though', 'sincere', 'always', 'below', 'bottom', 'they', 'wherein', 'everywhere', 'per', 'by', 'about', 'call', 'thick', 'no', 'perhaps', 'front', 'was', 'please', 'eg', 'describe', 'anything', 'something', 'de', 'must', 'go', 'he', 'several', 'back', 'latterly', 'and', 'seem', 'quite', 'both', 'herein', 'system', 'will', 'seeming', 'from', 'done', 'him', 'which', 'against', 'made', 'along', 'elsewhere', 'two', 'forty', 'be', 'toward', 'mill', 'co', 'together', 'none', 'amoungst', 'again', 'find', 'former', 'indeed', 'side', 'being', 'whence', 'beforehand', 'kg', 'sometime', 'of', 'after', 'moreover', 'sometimes', 'four', 'if', 'might', 'alone', 'us', 'namely', 'beside', 'already', 'you', 'yours', 'serious', 'whoever', 'during', 'when', 'anyway', 'other', 'whereafter', 'around', 'least', 'most', 'we', 'various', 'whose', 'say', 'did', 'otherwise', 'see', 'it', 'everyone', 'can', 'more', 'are', 'mostly', 'ours', 'just', 'cry', 'nobody', 'over', 'km', 'nothing', 'behind', 'her', 'themselves', 'do', 'third', 'un', 'a', 'while', 'although', 'hereupon', 'whither', 'wherever', 'without', 'well', 'to', 'me', 'with', 'nowhere', 'couldnt', 'whereas', 'in', 'the', 'part', 'its', 'nor', 'hereby', 'take', 'within', 'such', 'seems', 'someone', 'few', 'any', 'besides', 'twelve', 'becomes', 'out', 'i', 'ourselves', 'regarding', 'make', 'noone', 'detail', 'where', 'not', 'thereafter', 'latter', 'would', 'beyond', 'throughout', 'those', 'hundred', 'itself', 'on', 'using', 'used', 'how', 're', 'have', 'even', 'should', 'except', 'move', 'their', 'at', 'less', 'found', 'because', 'didn', 'cant', 'among', 'hereafter', 'does', 'whenever', 'very', 'top', 'else', 'ltd', 'fifteen', 'anyhow', 'mine', 'through', 'whole', 'became', 'now', 'but', 'so', 'ten', 'still', 'thereby', 'above', 'meanwhile', 'first', 'eight', 'off', 'unless', 'across', 'amongst', 'these', 'become', 'until', 'thereupon', 'really', 'whereupon', 'myself', 'name', 'full', 'whereby', 'somehow', 'hers', 'fire', 'often', 'ie', 'up', 'am', 'eleven', 'could', 'his', 'rather', 'give', 'than', 'seemed', 'bill', 'them', 'who', 'there', 'only', 'himself', 'via', 'twenty', 'others', 'three', 'she', 'five', 'why', 'almost', 'has', 'before', 'had', 'don', 'etc', 'what', 'then', 'each', 'all', 'upon', 'further', 'doesn', 'thus', 'next', 'show', 'therefore', 'another', 'our', 'same', 'afterwards', 'get', 'cannot', 'six', 'into', 'thin', 'thence', 'onto', 'many', 'this', 'hasnt', 'yourself', 'whatever', 'one', 'everything', 'however', 'or', 'much', 'computer', 'thru', 'my', 'here', 'yourselves', 'due', 'whether', 'doing', 'for', 'that', 'last', 'somewhere', 'down', 'formerly', 'never', 'between', 'every', 'own', 'nevertheless', 'may', 'anyone', 'too', 'empty', 'an', 'put', 'becoming', 'fifty', 'enough', 'also'}) \n",
      "\n",
      "\n"
     ]
    }
   ],
   "source": [
    "# Using gensim\n",
    "\n",
    "import gensim\n",
    "from gensim.parsing.preprocessing import STOPWORDS\n",
    "\n",
    "#display\n",
    "stopwords = gensim.parsing.preprocessing.STOPWORDS\n",
    "print(stopwords, \"\\n\\n\")\n",
    "\n",
    "# add\n",
    "gs_stopwords = STOPWORDS.union(set(['naturally', 'company']))\n",
    "print(gs_stopwords, \"\\n\\n\")\n",
    "\n",
    "#remove\n",
    "rem = {\"is\"}\n",
    "gs_stop_words = STOPWORDS\n",
    "gs_stop_words = STOPWORDS.difference(rem)\n",
    "print(gs_stop_words, \"\\n\\n\")\n"
   ]
  },
  {
   "cell_type": "code",
   "execution_count": 5,
   "id": "1075237f",
   "metadata": {},
   "outputs": [
    {
     "name": "stdout",
     "output_type": "stream",
     "text": [
      "['Subject', 'naturally', 's', 'irresistible', 'corporate', 'identity', 'lt', 'is', 'hard', 'recollect', 'company', 'market', 'is', 'suqgestions', 'information', 'isoverwhelminq', 'good', 'catchy', 'logo', 'stylish', 'statlonery', 'outstanding', 'website', 'task', 'easier', 't', 'promise', 'havinq', 'ordered', 'iogo', 'company', 'automaticaily', 'world', 'ieader', 'isguite', 'ciear', 'good', 'products', 'effective', 'business', 'organization', 'practicable', 'aim', 'hotat', 'nowadays', 'market', 'promise', 'marketing', 'efforts', 'effective', 'is', 'list', 'clear', 'benefits', 'creativeness', 'hand', 'original', 'logos', 'specially', 'reflect', 'distinctive', 'company', 'image', 'convenience', 'logo', 'stationery', 'provided', 'formats', 'easy', 'use', 'content', 'management', 'letsyou', 'change', 'website', 'content', 'structure', 'promptness', 'll', 'logo', 'drafts', 'business', 'days', 'affordability', 'marketing', 'break', 'shouldn', 't', 'gaps', 'budget', 'satisfaction', 'guaranteed', 'provide', 'unlimited', 'changes', 'extra', 'fees', 'surethat', 'love', 'result', 'collaboration', 'look', 'portfolio', '_', '_', '_', '_', '_', '_', '_', '_', '_', '_', '_', '_', '_', '_', '_', '_', '_', '_', '_', '_', '_', '_', '_', '_', '_', '_', '_', '_', '_', '_', '_', '_', '_', '_', '_', '_', '_', '_', '_', '_', '_', '_', '_', '_', '_', '_', '_', '_', '_', '_', '_', '_', 'interested', '_', '_', '_', '_', '_', '_', '_', '_', '_', '_', '_', '_', '_', '_', '_', '_', '_', '_', '_', '_', '_', '_', '_', '_', '_', '_', '_', '_', '_', '_', '_', '_', '_', '_', '_', '_', '_', '_', '_', '_', '_', '_', '_', '_', '_', '_', '_', '_', '_', '_', '_', '_']\n"
     ]
    }
   ],
   "source": [
    "# remove stopwords from text\n",
    "\n",
    "text = data['text'][0]\n",
    "from gensim.utils import tokenize\n",
    "tk_list = list(tokenize(text))\n",
    "tk = [token for token in tk_list if not token in gs_stop_words]\n",
    "print(tk)"
   ]
  },
  {
   "cell_type": "code",
   "execution_count": 6,
   "id": "55fac0f9",
   "metadata": {},
   "outputs": [
    {
     "name": "stdout",
     "output_type": "stream",
     "text": [
      "{'in', 'the', \"weren't\", 'its', 'nor', 'some', \"didn't\", 'mustn', 'your', 'such', 'few', 'been', 'any', 'out', 'i', 'as', 'ourselves', 'mightn', 'under', 'were', 'where', 'not', 't', 'herself', 'those', 'whom', 'itself', 'on', \"you've\", 'once', \"needn't\", 'how', 'haven', 're', 'have', 'should', \"it's\", 'their', 'at', 'below', \"should've\", 'couldn', 'they', 'aren', 'because', 'didn', 'wasn', 'does', 'needn', 'by', 'very', \"you're\", 'about', 'won', 'hasn', 'no', 'was', \"wasn't\", 'through', 'm', 'now', 'but', \"hasn't\", 'so', 'he', \"mightn't\", 'and', 'above', 'y', 'off', 'both', \"haven't\", 'will', 'these', 'from', \"couldn't\", 'until', 'him', 'which', 'me', 'against', 'myself', 'hers', 'is', \"shan't\", 'be', \"hadn't\", \"you'll\", 'll', 's', 've', 'up', 'am', 'having', 'his', 'again', 'hadn', 'than', 'being', 'them', 'who', 'there', 'only', 'himself', 'of', 'after', 'she', \"aren't\", 'if', 'why', 'has', 'shan', \"isn't\", 'ma', 'before', 'you', 'had', 'yours', 'don', 'during', 'what', 'then', 'when', 'each', 'other', 'all', 'isn', 'further', 'doesn', 'most', 'we', \"shouldn't\", 'our', 'same', \"doesn't\", 'shouldn', \"you'd\", 'into', 'did', 'it', 'can', 'this', 'ain', \"mustn't\", 'yourself', 'more', 'or', 'my', 'are', 'here', 'yourselves', \"she's\", 'doing', \"wouldn't\", 'for', 'ours', 'that', 'just', 'theirs', 'over', 'wouldn', 'her', 'themselves', 'down', 'do', 'between', 'a', 'while', 'own', \"that'll\", 'too', 'an', \"don't\", 'weren', \"won't\", 'o', 'd', 'to', 'with'} \n",
      "\n",
      "\n",
      "{'in', 'the', \"weren't\", 'its', 'nor', 'some', \"didn't\", 'mustn', 'your', 'such', 'few', 'been', 'any', 'out', 'i', 'as', 'ourselves', 'mightn', 'under', 'were', 'where', 'not', 't', 'herself', 'those', 'whom', 'itself', 'on', \"you've\", 'once', \"needn't\", 'how', 'haven', 're', 'have', 'should', \"it's\", 'their', 'at', 'below', \"should've\", 'couldn', 'they', 'aren', 'because', 'didn', 'wasn', 'does', 'needn', 'by', 'very', \"you're\", 'about', 'won', 'hasn', 'no', 'was', \"wasn't\", 'through', 'm', 'now', 'but', \"hasn't\", 'so', 'he', \"mightn't\", 'and', 'above', 'y', 'off', 'both', \"haven't\", 'will', 'these', 'from', \"couldn't\", 'until', 'him', 'which', 'me', 'against', 'myself', 'hers', 'is', \"shan't\", 'be', \"hadn't\", \"you'll\", 'll', 's', 've', 'up', 'am', 'having', 'his', 'again', 'hadn', 'than', 'being', 'them', 'who', 'there', 'only', 'himself', 'of', 'after', 'she', \"aren't\", 'if', 'why', 'has', 'shan', \"isn't\", 'ma', 'before', 'you', 'had', 'yours', 'don', 'during', 'what', 'then', 'when', 'each', 'other', 'all', 'isn', 'further', 'doesn', 'most', 'we', \"shouldn't\", 'our', 'same', \"doesn't\", 'shouldn', \"you'd\", 'into', 'did', 'can', 'this', 'ain', \"mustn't\", 'yourself', 'more', 'or', 'my', 'are', 'here', 'yourselves', \"she's\", 'doing', \"wouldn't\", 'for', 'ours', 'that', 'just', 'theirs', 'over', 'wouldn', 'her', 'themselves', 'down', 'do', 'between', 'a', 'while', 'own', \"that'll\", 'too', 'an', \"don't\", 'weren', \"won't\", 'o', 'd', 'to', 'with'} \n",
      "\n",
      "\n",
      "{'in', 'the', \"weren't\", 'its', 'nor', 'some', \"didn't\", 'mustn', 'your', 'such', 'few', 'been', 'any', 'out', 'i', 'as', 'ourselves', 'mightn', 'under', 'were', 'where', 'not', 't', 'herself', 'those', 'whom', 'itself', 'on', \"you've\", 'once', \"needn't\", 'how', 'haven', 're', 'have', 'should', \"it's\", 'their', 'at', 'below', \"should've\", 'couldn', 'they', 'aren', 'because', 'didn', 'wasn', 'does', 'needn', 'by', 'very', \"you're\", 'about', 'won', 'hasn', 'no', 'Subject:', 'was', \"wasn't\", 'through', 'm', 'now', 'but', \"hasn't\", 'so', 'he', \"mightn't\", 'and', 'above', 'y', 'off', 'both', \"haven't\", 'will', 'these', 'from', \"couldn't\", 'until', 'him', 'which', 'me', 'against', 'myself', 'hers', 'is', \"shan't\", 'be', \"hadn't\", \"you'll\", 'll', 's', 've', 'up', 'am', 'having', 'his', 'again', 'hadn', 'than', 'being', 'them', 'who', 'there', 'only', 'himself', 'of', 'after', 'she', \"aren't\", 'if', 'why', 'has', 'shan', \"isn't\", 'ma', 'before', 'you', 'had', 'yours', 'don', 'during', 'what', 'then', 'when', 'each', 'other', 'all', 'isn', 'further', 'doesn', 'most', 'we', \"shouldn't\", 'our', 'same', \"doesn't\", 'shouldn', \"you'd\", 'into', 'did', 'can', 'this', 'ain', \"mustn't\", 'yourself', 'more', 'or', 'my', 'are', 'here', 'yourselves', \"she's\", 'doing', \"wouldn't\", 'for', 'ours', 'that', 'just', 'theirs', 'over', 'wouldn', 'her', 'themselves', 'down', 'do', 'between', 'a', 'while', 'own', \"that'll\", 'too', 'an', \"don't\", 'weren', \"won't\", 'o', 'd', 'to', 'with'} \n",
      "\n",
      "\n"
     ]
    },
    {
     "name": "stderr",
     "output_type": "stream",
     "text": [
      "[nltk_data] Downloading package stopwords to\n",
      "[nltk_data]     C:\\Users\\Hp\\AppData\\Roaming\\nltk_data...\n",
      "[nltk_data]   Package stopwords is already up-to-date!\n"
     ]
    }
   ],
   "source": [
    "# Using NLTK\n",
    "\n",
    "import nltk\n",
    "nltk.download('stopwords')\n",
    "from nltk.corpus import stopwords\n",
    "from nltk.tokenize import word_tokenize\n",
    "\n",
    "#display\n",
    "stop_words = set(stopwords.words('english'))\n",
    "print(stop_words, \"\\n\\n\")\n",
    "\n",
    "#remove\n",
    "stop_words.remove('it')\n",
    "print(stop_words, \"\\n\\n\")\n",
    "\n",
    "#add\n",
    "stop_words.add('Subject:')\n",
    "print(stop_words, \"\\n\\n\")"
   ]
  },
  {
   "cell_type": "code",
   "execution_count": 7,
   "id": "304604a1",
   "metadata": {},
   "outputs": [
    {
     "data": {
      "text/plain": [
       "'4 color printing special request additional information ! click click printable version order form ( pdf format ) phone : ( 626 ) 338 - 8090 fax : ( 626 ) 338 - 8102 e - mail : ramsey @ goldengraphix . com request additional information ! click click printable version order form ( pdf format ) golden graphix & printing 5110 azusa canyon rd . irwindale , ca 91706 e - mail message advertisement / solicitation games54 Game5S4 .'"
      ]
     },
     "execution_count": 7,
     "metadata": {},
     "output_type": "execute_result"
    }
   ],
   "source": [
    "# remove stopwords from text\n",
    "\n",
    "def remove_stopwords(txt):\n",
    "    return \" \".join([word for word in str(txt).split() if word not in stop_words])\n",
    "data['text'] = data['text'].apply(lambda x : remove_stopwords(x))\n",
    "data['text'][3]"
   ]
  },
  {
   "cell_type": "code",
   "execution_count": null,
   "id": "ffb65bfd",
   "metadata": {},
   "outputs": [],
   "source": []
  }
 ],
 "metadata": {
  "kernelspec": {
   "display_name": "Python 3 (ipykernel)",
   "language": "python",
   "name": "python3"
  },
  "language_info": {
   "codemirror_mode": {
    "name": "ipython",
    "version": 3
   },
   "file_extension": ".py",
   "mimetype": "text/x-python",
   "name": "python",
   "nbconvert_exporter": "python",
   "pygments_lexer": "ipython3",
   "version": "3.9.7"
  }
 },
 "nbformat": 4,
 "nbformat_minor": 5
}
